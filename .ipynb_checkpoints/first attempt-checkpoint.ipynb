{
 "cells": [
  {
   "cell_type": "code",
   "execution_count": 19,
   "id": "cab3000f-c653-4788-9dcb-6d2f68800536",
   "metadata": {},
   "outputs": [
    {
     "data": {
      "text/plain": [
       "_io.TextIOWrapper"
      ]
     },
     "execution_count": 19,
     "metadata": {},
     "output_type": "execute_result"
    }
   ],
   "source": [
    "my_file = open ('NYC_Dog_Licensing_Dataset.csv')\n",
    "\n",
    "type (my_file) "
   ]
  },
  {
   "cell_type": "code",
   "execution_count": 20,
   "id": "25b3581c-fbea-48ff-b5c2-6c65f8a60b45",
   "metadata": {},
   "outputs": [
    {
     "data": {
      "text/plain": [
       "<_csv.reader at 0x7fdbb5870040>"
      ]
     },
     "execution_count": 20,
     "metadata": {},
     "output_type": "execute_result"
    }
   ],
   "source": [
    "reader (my_file)"
   ]
  },
  {
   "cell_type": "code",
   "execution_count": 21,
   "id": "b3fe0628-2d9d-4d02-b5b8-2c595ed1c4bf",
   "metadata": {},
   "outputs": [
    {
     "name": "stdout",
     "output_type": "stream",
     "text": [
      "[['\\ufeffAnimalName;AnimalGender;AnimalBirthYear;BreedName;ZipCode;LicenseIssuedDate;LicenseExpiredDate;Extract Year'], ['PAIGE;F;2014;American Pit Bull Mix / Pit Bull Mix;10035;09/12/2014;09/12/2017;2016'], ['YOGI;M;2010;Boxer;10465;09/12/2014;10/02/2017;2016'], ['ALI;M;2014;Basenji;10013;09/12/2014;09/12/2019;2016'], ['QUEEN;F;2013;Akita Crossbreed;10013;09/12/2014;09/12/2017;2016'], ['LOLA;F;2009;Maltese;10028;09/12/2014;10/09/2017;2016'], ['IAN;M;2006;Unknown;10013;09/12/2014;10/30/2019;2016'], ['BUDDY;M;2008;Unknown;10025;09/12/2014;10/20/2017;2016'], ['CHEWBACCA;F;2012;Labrador Retriever Crossbreed;10013;09/12/2014;10/01/2019;2016'], ['HEIDI-BO;F;2007;Dachshund Smooth Coat;11215;09/13/2014;04/16/2017;2016']]\n"
     ]
    },
    {
     "data": {
      "text/plain": [
       "508197"
      ]
     },
     "execution_count": 21,
     "metadata": {},
     "output_type": "execute_result"
    }
   ],
   "source": [
    "from csv import reader \n",
    "read_file = reader (my_file)\n",
    "AnimalName = list(read_file)\n",
    "\n",
    "print (AnimalName[:10])\n",
    "\n",
    "len (AnimalName)"
   ]
  },
  {
   "cell_type": "code",
   "execution_count": 23,
   "id": "dab48969-8dd3-45fe-a9cf-d821ec6fec60",
   "metadata": {},
   "outputs": [
    {
     "data": {
      "text/plain": [
       "_io.TextIOWrapper"
      ]
     },
     "execution_count": 23,
     "metadata": {},
     "output_type": "execute_result"
    }
   ],
   "source": [
    "my_file = open ('NYC_Dog_Licensing_Dataset Kopie.csv')\n",
    "\n",
    "type (my_file) "
   ]
  },
  {
   "cell_type": "code",
   "execution_count": 24,
   "id": "28572e33-94a1-4c72-afe0-8ac6415ebd0b",
   "metadata": {},
   "outputs": [
    {
     "name": "stdout",
     "output_type": "stream",
     "text": [
      "[['AnimalName', 'AnimalGender', 'AnimalBirthYear', 'BreedName', 'ZipCode', 'LicenseIssuedDate', 'LicenseExpiredDate', 'Extract Year'], ['PAIGE', 'F', '2014', 'American Pit Bull Mix / Pit Bull Mix', '10035', '09/12/2014', '09/12/2017', '2016'], ['YOGI', 'M', '2010', 'Boxer', '10465', '09/12/2014', '10/02/2017', '2016'], ['ALI', 'M', '2014', 'Basenji', '10013', '09/12/2014', '09/12/2019', '2016'], ['QUEEN', 'F', '2013', 'Akita Crossbreed', '10013', '09/12/2014', '09/12/2017', '2016'], ['LOLA', 'F', '2009', 'Maltese', '10028', '09/12/2014', '10/09/2017', '2016'], ['IAN', 'M', '2006', 'Unknown', '10013', '09/12/2014', '10/30/2019', '2016'], ['BUDDY', 'M', '2008', 'Unknown', '10025', '09/12/2014', '10/20/2017', '2016'], ['CHEWBACCA', 'F', '2012', 'Labrador Retriever Crossbreed', '10013', '09/12/2014', '10/01/2019', '2016'], ['HEIDI-BO', 'F', '2007', 'Dachshund Smooth Coat', '11215', '09/13/2014', '04/16/2017', '2016']]\n"
     ]
    },
    {
     "data": {
      "text/plain": [
       "508197"
      ]
     },
     "execution_count": 24,
     "metadata": {},
     "output_type": "execute_result"
    }
   ],
   "source": [
    "from csv import reader \n",
    "read_file = reader (my_file)\n",
    "AnimalName = list(read_file)\n",
    "\n",
    "print (AnimalName[:10])\n",
    "\n",
    "len (AnimalName)"
   ]
  },
  {
   "cell_type": "code",
   "execution_count": null,
   "id": "23c7b30e-83ce-416b-99aa-6e7e855e60c0",
   "metadata": {},
   "outputs": [],
   "source": []
  }
 ],
 "metadata": {
  "kernelspec": {
   "display_name": "Python 3",
   "language": "python",
   "name": "python3"
  },
  "language_info": {
   "codemirror_mode": {
    "name": "ipython",
    "version": 3
   },
   "file_extension": ".py",
   "mimetype": "text/x-python",
   "name": "python",
   "nbconvert_exporter": "python",
   "pygments_lexer": "ipython3",
   "version": "3.8.8"
  }
 },
 "nbformat": 4,
 "nbformat_minor": 5
}
