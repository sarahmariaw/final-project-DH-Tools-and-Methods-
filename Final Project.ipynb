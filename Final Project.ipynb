{
 "cells": [
  {
   "cell_type": "code",
   "execution_count": 47,
   "id": "f3ba91fe-4930-43a9-8677-e3230e3d37d2",
   "metadata": {},
   "outputs": [],
   "source": [
    "import pandas as pd\n"
   ]
  },
  {
   "cell_type": "code",
   "execution_count": 53,
   "id": "c667acef-3c66-45a5-a828-c3971c0c7d8e",
   "metadata": {},
   "outputs": [
    {
     "data": {
      "text/plain": [
       "0        No candidate mentioned\n",
       "1                  Scott Walker\n",
       "2        No candidate mentioned\n",
       "3        No candidate mentioned\n",
       "4                  Donald Trump\n",
       "                  ...          \n",
       "13866    No candidate mentioned\n",
       "13867             Mike Huckabee\n",
       "13868                  Ted Cruz\n",
       "13869              Donald Trump\n",
       "13870                  Ted Cruz\n",
       "Name: candidate, Length: 13871, dtype: object"
      ]
     },
     "metadata": {},
     "output_type": "display_data"
    }
   ],
   "source": [
    "df = pd.read_csv('Sentiment.csv')\n",
    "\n",
    "display(df['candidate']) "
   ]
  },
  {
   "cell_type": "code",
   "execution_count": 57,
   "id": "fe21feaf-885b-48fa-9a55-acada4afe59b",
   "metadata": {},
   "outputs": [
    {
     "data": {
      "text/plain": [
       "0        No candidate mentioned\n",
       "1                  Scott Walker\n",
       "2        No candidate mentioned\n",
       "3        No candidate mentioned\n",
       "4                  Donald Trump\n",
       "                  ...          \n",
       "13866    No candidate mentioned\n",
       "13867             Mike Huckabee\n",
       "13868                  Ted Cruz\n",
       "13869              Donald Trump\n",
       "13870                  Ted Cruz\n",
       "Name: candidate, Length: 13871, dtype: object"
      ]
     },
     "execution_count": 57,
     "metadata": {},
     "output_type": "execute_result"
    }
   ],
   "source": [
    "candidates = df['candidate']\n",
    "\n",
    "candidates"
   ]
  },
  {
   "cell_type": "code",
   "execution_count": 58,
   "id": "7fb800d8-a356-4296-8470-7924561a057d",
   "metadata": {},
   "outputs": [
    {
     "data": {
      "text/plain": [
       "2813"
      ]
     },
     "execution_count": 58,
     "metadata": {},
     "output_type": "execute_result"
    }
   ],
   "source": [
    "df['candidate'].value_counts()['Donald Trump']"
   ]
  },
  {
   "cell_type": "code",
   "execution_count": 59,
   "id": "b464e3a9-110d-4154-8976-48b066137676",
   "metadata": {},
   "outputs": [
    {
     "data": {
      "text/plain": [
       "0        False\n",
       "1        False\n",
       "2        False\n",
       "3        False\n",
       "4         True\n",
       "         ...  \n",
       "13866    False\n",
       "13867    False\n",
       "13868    False\n",
       "13869     True\n",
       "13870    False\n",
       "Name: candidate, Length: 13871, dtype: bool"
      ]
     },
     "execution_count": 59,
     "metadata": {},
     "output_type": "execute_result"
    }
   ],
   "source": [
    "df['candidate'] == 'Donald Trump'"
   ]
  },
  {
   "cell_type": "code",
   "execution_count": null,
   "id": "2518d4bc-f4e5-4060-9402-c24b4e56d466",
   "metadata": {},
   "outputs": [],
   "source": []
  }
 ],
 "metadata": {
  "kernelspec": {
   "display_name": "Python 3",
   "language": "python",
   "name": "python3"
  },
  "language_info": {
   "codemirror_mode": {
    "name": "ipython",
    "version": 3
   },
   "file_extension": ".py",
   "mimetype": "text/x-python",
   "name": "python",
   "nbconvert_exporter": "python",
   "pygments_lexer": "ipython3",
   "version": "3.8.8"
  }
 },
 "nbformat": 4,
 "nbformat_minor": 5
}
