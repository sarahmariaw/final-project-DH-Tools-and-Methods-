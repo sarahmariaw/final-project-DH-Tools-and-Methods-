{
 "cells": [
  {
   "cell_type": "code",
   "execution_count": 37,
   "id": "f3ba91fe-4930-43a9-8677-e3230e3d37d2",
   "metadata": {},
   "outputs": [],
   "source": [
    "import pandas as pd\n",
    "import numpy as np\n",
    "import matplotlib as mpl\n",
    "import matplotlib.pyplot as plt\n",
    "\n",
    "df = pd.read_csv('Sentiment.csv')"
   ]
  },
  {
   "cell_type": "code",
   "execution_count": 38,
   "id": "0ed1d115-b5ea-4450-85dd-e8cec9a92571",
   "metadata": {},
   "outputs": [
    {
     "data": {
      "text/html": [
       "<div>\n",
       "<style scoped>\n",
       "    .dataframe tbody tr th:only-of-type {\n",
       "        vertical-align: middle;\n",
       "    }\n",
       "\n",
       "    .dataframe tbody tr th {\n",
       "        vertical-align: top;\n",
       "    }\n",
       "\n",
       "    .dataframe thead th {\n",
       "        text-align: right;\n",
       "    }\n",
       "</style>\n",
       "<table border=\"1\" class=\"dataframe\">\n",
       "  <thead>\n",
       "    <tr style=\"text-align: right;\">\n",
       "      <th></th>\n",
       "      <th>id</th>\n",
       "      <th>candidate</th>\n",
       "      <th>candidate_confidence</th>\n",
       "      <th>relevant_yn</th>\n",
       "      <th>relevant_yn_confidence</th>\n",
       "      <th>sentiment</th>\n",
       "      <th>sentiment_confidence</th>\n",
       "      <th>subject_matter</th>\n",
       "      <th>subject_matter_confidence</th>\n",
       "      <th>candidate_gold</th>\n",
       "      <th>...</th>\n",
       "      <th>relevant_yn_gold</th>\n",
       "      <th>retweet_count</th>\n",
       "      <th>sentiment_gold</th>\n",
       "      <th>subject_matter_gold</th>\n",
       "      <th>text</th>\n",
       "      <th>tweet_coord</th>\n",
       "      <th>tweet_created</th>\n",
       "      <th>tweet_id</th>\n",
       "      <th>tweet_location</th>\n",
       "      <th>user_timezone</th>\n",
       "    </tr>\n",
       "  </thead>\n",
       "  <tbody>\n",
       "    <tr>\n",
       "      <th>0</th>\n",
       "      <td>1</td>\n",
       "      <td>No candidate mentioned</td>\n",
       "      <td>1.0</td>\n",
       "      <td>yes</td>\n",
       "      <td>1.0</td>\n",
       "      <td>Neutral</td>\n",
       "      <td>0.6578</td>\n",
       "      <td>None of the above</td>\n",
       "      <td>1.0000</td>\n",
       "      <td>NaN</td>\n",
       "      <td>...</td>\n",
       "      <td>NaN</td>\n",
       "      <td>5</td>\n",
       "      <td>NaN</td>\n",
       "      <td>NaN</td>\n",
       "      <td>RT @NancyLeeGrahn: How did everyone feel about...</td>\n",
       "      <td>NaN</td>\n",
       "      <td>2015-08-07 09:54:46 -0700</td>\n",
       "      <td>629697200650592256</td>\n",
       "      <td>NaN</td>\n",
       "      <td>Quito</td>\n",
       "    </tr>\n",
       "    <tr>\n",
       "      <th>1</th>\n",
       "      <td>2</td>\n",
       "      <td>Scott Walker</td>\n",
       "      <td>1.0</td>\n",
       "      <td>yes</td>\n",
       "      <td>1.0</td>\n",
       "      <td>Positive</td>\n",
       "      <td>0.6333</td>\n",
       "      <td>None of the above</td>\n",
       "      <td>1.0000</td>\n",
       "      <td>NaN</td>\n",
       "      <td>...</td>\n",
       "      <td>NaN</td>\n",
       "      <td>26</td>\n",
       "      <td>NaN</td>\n",
       "      <td>NaN</td>\n",
       "      <td>RT @ScottWalker: Didn't catch the full #GOPdeb...</td>\n",
       "      <td>NaN</td>\n",
       "      <td>2015-08-07 09:54:46 -0700</td>\n",
       "      <td>629697199560069120</td>\n",
       "      <td>NaN</td>\n",
       "      <td>NaN</td>\n",
       "    </tr>\n",
       "    <tr>\n",
       "      <th>2</th>\n",
       "      <td>3</td>\n",
       "      <td>No candidate mentioned</td>\n",
       "      <td>1.0</td>\n",
       "      <td>yes</td>\n",
       "      <td>1.0</td>\n",
       "      <td>Neutral</td>\n",
       "      <td>0.6629</td>\n",
       "      <td>None of the above</td>\n",
       "      <td>0.6629</td>\n",
       "      <td>NaN</td>\n",
       "      <td>...</td>\n",
       "      <td>NaN</td>\n",
       "      <td>27</td>\n",
       "      <td>NaN</td>\n",
       "      <td>NaN</td>\n",
       "      <td>RT @TJMShow: No mention of Tamir Rice and the ...</td>\n",
       "      <td>NaN</td>\n",
       "      <td>2015-08-07 09:54:46 -0700</td>\n",
       "      <td>629697199312482304</td>\n",
       "      <td>NaN</td>\n",
       "      <td>NaN</td>\n",
       "    </tr>\n",
       "    <tr>\n",
       "      <th>3</th>\n",
       "      <td>4</td>\n",
       "      <td>No candidate mentioned</td>\n",
       "      <td>1.0</td>\n",
       "      <td>yes</td>\n",
       "      <td>1.0</td>\n",
       "      <td>Positive</td>\n",
       "      <td>1.0000</td>\n",
       "      <td>None of the above</td>\n",
       "      <td>0.7039</td>\n",
       "      <td>NaN</td>\n",
       "      <td>...</td>\n",
       "      <td>NaN</td>\n",
       "      <td>138</td>\n",
       "      <td>NaN</td>\n",
       "      <td>NaN</td>\n",
       "      <td>RT @RobGeorge: That Carly Fiorina is trending ...</td>\n",
       "      <td>NaN</td>\n",
       "      <td>2015-08-07 09:54:45 -0700</td>\n",
       "      <td>629697197118861312</td>\n",
       "      <td>Texas</td>\n",
       "      <td>Central Time (US &amp; Canada)</td>\n",
       "    </tr>\n",
       "    <tr>\n",
       "      <th>4</th>\n",
       "      <td>5</td>\n",
       "      <td>Donald Trump</td>\n",
       "      <td>1.0</td>\n",
       "      <td>yes</td>\n",
       "      <td>1.0</td>\n",
       "      <td>Positive</td>\n",
       "      <td>0.7045</td>\n",
       "      <td>None of the above</td>\n",
       "      <td>1.0000</td>\n",
       "      <td>NaN</td>\n",
       "      <td>...</td>\n",
       "      <td>NaN</td>\n",
       "      <td>156</td>\n",
       "      <td>NaN</td>\n",
       "      <td>NaN</td>\n",
       "      <td>RT @DanScavino: #GOPDebate w/ @realDonaldTrump...</td>\n",
       "      <td>NaN</td>\n",
       "      <td>2015-08-07 09:54:45 -0700</td>\n",
       "      <td>629697196967903232</td>\n",
       "      <td>NaN</td>\n",
       "      <td>Arizona</td>\n",
       "    </tr>\n",
       "  </tbody>\n",
       "</table>\n",
       "<p>5 rows × 21 columns</p>\n",
       "</div>"
      ],
      "text/plain": [
       "   id               candidate  candidate_confidence relevant_yn  \\\n",
       "0   1  No candidate mentioned                   1.0         yes   \n",
       "1   2            Scott Walker                   1.0         yes   \n",
       "2   3  No candidate mentioned                   1.0         yes   \n",
       "3   4  No candidate mentioned                   1.0         yes   \n",
       "4   5            Donald Trump                   1.0         yes   \n",
       "\n",
       "   relevant_yn_confidence sentiment  sentiment_confidence     subject_matter  \\\n",
       "0                     1.0   Neutral                0.6578  None of the above   \n",
       "1                     1.0  Positive                0.6333  None of the above   \n",
       "2                     1.0   Neutral                0.6629  None of the above   \n",
       "3                     1.0  Positive                1.0000  None of the above   \n",
       "4                     1.0  Positive                0.7045  None of the above   \n",
       "\n",
       "   subject_matter_confidence candidate_gold  ... relevant_yn_gold  \\\n",
       "0                     1.0000            NaN  ...              NaN   \n",
       "1                     1.0000            NaN  ...              NaN   \n",
       "2                     0.6629            NaN  ...              NaN   \n",
       "3                     0.7039            NaN  ...              NaN   \n",
       "4                     1.0000            NaN  ...              NaN   \n",
       "\n",
       "  retweet_count  sentiment_gold subject_matter_gold  \\\n",
       "0             5             NaN                 NaN   \n",
       "1            26             NaN                 NaN   \n",
       "2            27             NaN                 NaN   \n",
       "3           138             NaN                 NaN   \n",
       "4           156             NaN                 NaN   \n",
       "\n",
       "                                                text tweet_coord  \\\n",
       "0  RT @NancyLeeGrahn: How did everyone feel about...         NaN   \n",
       "1  RT @ScottWalker: Didn't catch the full #GOPdeb...         NaN   \n",
       "2  RT @TJMShow: No mention of Tamir Rice and the ...         NaN   \n",
       "3  RT @RobGeorge: That Carly Fiorina is trending ...         NaN   \n",
       "4  RT @DanScavino: #GOPDebate w/ @realDonaldTrump...         NaN   \n",
       "\n",
       "               tweet_created            tweet_id  tweet_location  \\\n",
       "0  2015-08-07 09:54:46 -0700  629697200650592256             NaN   \n",
       "1  2015-08-07 09:54:46 -0700  629697199560069120             NaN   \n",
       "2  2015-08-07 09:54:46 -0700  629697199312482304             NaN   \n",
       "3  2015-08-07 09:54:45 -0700  629697197118861312           Texas   \n",
       "4  2015-08-07 09:54:45 -0700  629697196967903232             NaN   \n",
       "\n",
       "                user_timezone  \n",
       "0                       Quito  \n",
       "1                         NaN  \n",
       "2                         NaN  \n",
       "3  Central Time (US & Canada)  \n",
       "4                     Arizona  \n",
       "\n",
       "[5 rows x 21 columns]"
      ]
     },
     "execution_count": 38,
     "metadata": {},
     "output_type": "execute_result"
    }
   ],
   "source": [
    "df.head()"
   ]
  },
  {
   "cell_type": "code",
   "execution_count": 39,
   "id": "c667acef-3c66-45a5-a828-c3971c0c7d8e",
   "metadata": {},
   "outputs": [
    {
     "data": {
      "text/plain": [
       "0        No candidate mentioned\n",
       "1                  Scott Walker\n",
       "2        No candidate mentioned\n",
       "3        No candidate mentioned\n",
       "4                  Donald Trump\n",
       "                  ...          \n",
       "13866    No candidate mentioned\n",
       "13867             Mike Huckabee\n",
       "13868                  Ted Cruz\n",
       "13869              Donald Trump\n",
       "13870                  Ted Cruz\n",
       "Name: candidate, Length: 13871, dtype: object"
      ]
     },
     "metadata": {},
     "output_type": "display_data"
    }
   ],
   "source": [
    "df = pd.read_csv('Sentiment.csv')\n",
    "\n",
    "display(df['candidate']) "
   ]
  },
  {
   "cell_type": "code",
   "execution_count": 40,
   "id": "fe21feaf-885b-48fa-9a55-acada4afe59b",
   "metadata": {},
   "outputs": [
    {
     "data": {
      "text/plain": [
       "0        No candidate mentioned\n",
       "1                  Scott Walker\n",
       "2        No candidate mentioned\n",
       "3        No candidate mentioned\n",
       "4                  Donald Trump\n",
       "                  ...          \n",
       "13866    No candidate mentioned\n",
       "13867             Mike Huckabee\n",
       "13868                  Ted Cruz\n",
       "13869              Donald Trump\n",
       "13870                  Ted Cruz\n",
       "Name: candidate, Length: 13871, dtype: object"
      ]
     },
     "execution_count": 40,
     "metadata": {},
     "output_type": "execute_result"
    }
   ],
   "source": [
    "candidates = df['candidate']\n",
    "\n",
    "candidates"
   ]
  },
  {
   "cell_type": "code",
   "execution_count": 41,
   "id": "7fb800d8-a356-4296-8470-7924561a057d",
   "metadata": {},
   "outputs": [
    {
     "data": {
      "text/plain": [
       "2813"
      ]
     },
     "execution_count": 41,
     "metadata": {},
     "output_type": "execute_result"
    }
   ],
   "source": [
    "df['candidate'].value_counts()['Donald Trump']"
   ]
  },
  {
   "cell_type": "code",
   "execution_count": 42,
   "id": "b464e3a9-110d-4154-8976-48b066137676",
   "metadata": {},
   "outputs": [
    {
     "data": {
      "text/plain": [
       "0        False\n",
       "1        False\n",
       "2        False\n",
       "3        False\n",
       "4         True\n",
       "         ...  \n",
       "13866    False\n",
       "13867    False\n",
       "13868    False\n",
       "13869     True\n",
       "13870    False\n",
       "Name: candidate, Length: 13871, dtype: bool"
      ]
     },
     "execution_count": 42,
     "metadata": {},
     "output_type": "execute_result"
    }
   ],
   "source": [
    "df['candidate'] == 'Donald Trump'"
   ]
  },
  {
   "cell_type": "code",
   "execution_count": 43,
   "id": "2518d4bc-f4e5-4060-9402-c24b4e56d466",
   "metadata": {},
   "outputs": [
    {
     "data": {
      "text/plain": [
       "Index(['id', 'candidate', 'candidate_confidence', 'relevant_yn',\n",
       "       'relevant_yn_confidence', 'sentiment', 'sentiment_confidence',\n",
       "       'subject_matter', 'subject_matter_confidence', 'candidate_gold', 'name',\n",
       "       'relevant_yn_gold', 'retweet_count', 'sentiment_gold',\n",
       "       'subject_matter_gold', 'text', 'tweet_coord', 'tweet_created',\n",
       "       'tweet_id', 'tweet_location', 'user_timezone'],\n",
       "      dtype='object')"
      ]
     },
     "execution_count": 43,
     "metadata": {},
     "output_type": "execute_result"
    }
   ],
   "source": [
    "df.columns"
   ]
  },
  {
   "cell_type": "code",
   "execution_count": 44,
   "id": "6038bdf2-8184-4f1f-8bad-5b2fa0adb2f8",
   "metadata": {},
   "outputs": [
    {
     "data": {
      "text/plain": [
       "id                             int64\n",
       "candidate                     object\n",
       "candidate_confidence         float64\n",
       "relevant_yn                   object\n",
       "relevant_yn_confidence       float64\n",
       "sentiment                     object\n",
       "sentiment_confidence         float64\n",
       "subject_matter                object\n",
       "subject_matter_confidence    float64\n",
       "candidate_gold                object\n",
       "name                          object\n",
       "relevant_yn_gold              object\n",
       "retweet_count                  int64\n",
       "sentiment_gold                object\n",
       "subject_matter_gold           object\n",
       "text                          object\n",
       "tweet_coord                   object\n",
       "tweet_created                 object\n",
       "tweet_id                       int64\n",
       "tweet_location                object\n",
       "user_timezone                 object\n",
       "dtype: object"
      ]
     },
     "execution_count": 44,
     "metadata": {},
     "output_type": "execute_result"
    }
   ],
   "source": [
    "df.dtypes"
   ]
  },
  {
   "cell_type": "code",
   "execution_count": 45,
   "id": "c2aa7ba7-21f9-4d54-887f-7b44e1ba16ba",
   "metadata": {},
   "outputs": [
    {
     "data": {
      "text/plain": [
       "No candidate mentioned    7491\n",
       "Donald Trump              2813\n",
       "Jeb Bush                   705\n",
       "Ted Cruz                   637\n",
       "Ben Carson                 404\n",
       "Mike Huckabee              393\n",
       "Chris Christie             293\n",
       "Marco Rubio                275\n",
       "Rand Paul                  263\n",
       "Scott Walker               259\n",
       "John Kasich                242\n",
       "Name: candidate, dtype: int64"
      ]
     },
     "execution_count": 45,
     "metadata": {},
     "output_type": "execute_result"
    }
   ],
   "source": [
    "df['candidate'].value_counts()"
   ]
  },
  {
   "cell_type": "code",
   "execution_count": 46,
   "id": "c2d9b353-8652-4f8b-bb8f-afe61a007d5e",
   "metadata": {},
   "outputs": [
    {
     "data": {
      "text/plain": [
       "None of the above                       8148\n",
       "FOX News or Moderators                  2900\n",
       "Religion                                 407\n",
       "Foreign Policy                           366\n",
       "Women's Issues (not abortion though)     362\n",
       "Racial issues                            353\n",
       "Abortion                                 293\n",
       "Jobs and Economy                         251\n",
       "Immigration                              211\n",
       "LGBT issues                              126\n",
       "Healthcare (including Medicare)           67\n",
       "Gun Control                               61\n",
       "Name: subject_matter, dtype: int64"
      ]
     },
     "execution_count": 46,
     "metadata": {},
     "output_type": "execute_result"
    }
   ],
   "source": [
    "df['subject_matter'].value_counts()"
   ]
  },
  {
   "cell_type": "code",
   "execution_count": 47,
   "id": "ecb092b4-60d2-4bfc-a5a7-ee0da8ce0178",
   "metadata": {},
   "outputs": [],
   "source": [
    "piechart_data = df['subject_matter'].value_counts()\n"
   ]
  },
  {
   "cell_type": "code",
   "execution_count": 48,
   "id": "f0b7e5ae-1e5b-419b-886e-2a5dd0086b9a",
   "metadata": {},
   "outputs": [
    {
     "name": "stdout",
     "output_type": "stream",
     "text": [
      "None of the above                       8148\n",
      "FOX News or Moderators                  2900\n",
      "Religion                                 407\n",
      "Foreign Policy                           366\n",
      "Women's Issues (not abortion though)     362\n",
      "Racial issues                            353\n",
      "Abortion                                 293\n",
      "Jobs and Economy                         251\n",
      "Immigration                              211\n",
      "LGBT issues                              126\n",
      "Healthcare (including Medicare)           67\n",
      "Gun Control                               61\n",
      "Name: subject_matter, dtype: int64\n"
     ]
    }
   ],
   "source": [
    "print(piechart_data)"
   ]
  },
  {
   "cell_type": "code",
   "execution_count": 49,
   "id": "10ee7df7-b4b9-4e7b-b814-cdc111544d45",
   "metadata": {},
   "outputs": [
    {
     "data": {
      "text/plain": [
       "{'None of the above': 8148,\n",
       " 'FOX News or Moderators': 2900,\n",
       " 'Religion': 407,\n",
       " 'Foreign Policy': 366,\n",
       " \"Women's Issues (not abortion though)\": 362,\n",
       " 'Racial issues': 353,\n",
       " 'Abortion': 293,\n",
       " 'Jobs and Economy': 251,\n",
       " 'Immigration': 211,\n",
       " 'LGBT issues': 126,\n",
       " 'Healthcare (including Medicare)': 67,\n",
       " 'Gun Control': 61}"
      ]
     },
     "execution_count": 49,
     "metadata": {},
     "output_type": "execute_result"
    }
   ],
   "source": [
    "piechart_dict = piechart_data.to_dict()\n",
    "piechart_dict"
   ]
  },
  {
   "cell_type": "code",
   "execution_count": 51,
   "id": "fa5587a7-e7a2-4b5e-a74f-0aae64ef5dac",
   "metadata": {},
   "outputs": [
    {
     "data": {
      "text/html": [
       "<div>\n",
       "<style scoped>\n",
       "    .dataframe tbody tr th:only-of-type {\n",
       "        vertical-align: middle;\n",
       "    }\n",
       "\n",
       "    .dataframe tbody tr th {\n",
       "        vertical-align: top;\n",
       "    }\n",
       "\n",
       "    .dataframe thead th {\n",
       "        text-align: right;\n",
       "    }\n",
       "</style>\n",
       "<table border=\"1\" class=\"dataframe\">\n",
       "  <thead>\n",
       "    <tr style=\"text-align: right;\">\n",
       "      <th></th>\n",
       "      <th>suject_matter</th>\n",
       "      <th>mentioned</th>\n",
       "    </tr>\n",
       "  </thead>\n",
       "  <tbody>\n",
       "    <tr>\n",
       "      <th>0</th>\n",
       "      <td>None of the above</td>\n",
       "      <td>8148</td>\n",
       "    </tr>\n",
       "    <tr>\n",
       "      <th>1</th>\n",
       "      <td>FOX News or Moderators</td>\n",
       "      <td>2900</td>\n",
       "    </tr>\n",
       "    <tr>\n",
       "      <th>2</th>\n",
       "      <td>Religion</td>\n",
       "      <td>407</td>\n",
       "    </tr>\n",
       "    <tr>\n",
       "      <th>3</th>\n",
       "      <td>Foreign Policy</td>\n",
       "      <td>366</td>\n",
       "    </tr>\n",
       "    <tr>\n",
       "      <th>4</th>\n",
       "      <td>Women's Issues (not abortion though)</td>\n",
       "      <td>362</td>\n",
       "    </tr>\n",
       "    <tr>\n",
       "      <th>5</th>\n",
       "      <td>Racial issues</td>\n",
       "      <td>353</td>\n",
       "    </tr>\n",
       "    <tr>\n",
       "      <th>6</th>\n",
       "      <td>Abortion</td>\n",
       "      <td>293</td>\n",
       "    </tr>\n",
       "    <tr>\n",
       "      <th>7</th>\n",
       "      <td>Jobs and Economy</td>\n",
       "      <td>251</td>\n",
       "    </tr>\n",
       "    <tr>\n",
       "      <th>8</th>\n",
       "      <td>Immigration</td>\n",
       "      <td>211</td>\n",
       "    </tr>\n",
       "    <tr>\n",
       "      <th>9</th>\n",
       "      <td>LGBT issues</td>\n",
       "      <td>126</td>\n",
       "    </tr>\n",
       "    <tr>\n",
       "      <th>10</th>\n",
       "      <td>Healthcare (including Medicare)</td>\n",
       "      <td>67</td>\n",
       "    </tr>\n",
       "    <tr>\n",
       "      <th>11</th>\n",
       "      <td>Gun Control</td>\n",
       "      <td>61</td>\n",
       "    </tr>\n",
       "  </tbody>\n",
       "</table>\n",
       "</div>"
      ],
      "text/plain": [
       "                           suject_matter  mentioned\n",
       "0                      None of the above       8148\n",
       "1                 FOX News or Moderators       2900\n",
       "2                               Religion        407\n",
       "3                         Foreign Policy        366\n",
       "4   Women's Issues (not abortion though)        362\n",
       "5                          Racial issues        353\n",
       "6                               Abortion        293\n",
       "7                       Jobs and Economy        251\n",
       "8                            Immigration        211\n",
       "9                            LGBT issues        126\n",
       "10       Healthcare (including Medicare)         67\n",
       "11                           Gun Control         61"
      ]
     },
     "execution_count": 51,
     "metadata": {},
     "output_type": "execute_result"
    }
   ],
   "source": [
    "piechart_df = pd.DataFrame.from_dict(piechart_dict, orient=\"index\").reset_index()\n",
    "piechart_df.columns = ['suject_matter', 'mentioned']\n",
    "piechart_df"
   ]
  },
  {
   "cell_type": "code",
   "execution_count": 53,
   "id": "017c1b2b-3875-47e4-b1bd-a2c31f3139ce",
   "metadata": {},
   "outputs": [
    {
     "data": {
      "text/plain": [
       "<AxesSubplot:ylabel='mentioned'>"
      ]
     },
     "execution_count": 53,
     "metadata": {},
     "output_type": "execute_result"
    },
    {
     "data": {
      "image/png": "[encoded data removed]",
      "text/plain": [
       "<Figure size 432x288 with 1 Axes>"
      ]
     },
     "metadata": {},
     "output_type": "display_data"
    }
   ],
   "source": [
    "piechart_df.plot(x=\"subject_matter\", y=\"mentioned\", kind=\"pie\")"
   ]
  },
  {
   "cell_type": "code",
   "execution_count": 55,
   "id": "fd5220b4-4d1e-4d14-8203-ef19ba6e3d27",
   "metadata": {},
   "outputs": [
    {
     "name": "stdout",
     "output_type": "stream",
     "text": [
      "No candidate mentioned    7491\n",
      "Donald Trump              2813\n",
      "Jeb Bush                   705\n",
      "Ted Cruz                   637\n",
      "Ben Carson                 404\n",
      "Mike Huckabee              393\n",
      "Chris Christie             293\n",
      "Marco Rubio                275\n",
      "Rand Paul                  263\n",
      "Scott Walker               259\n",
      "John Kasich                242\n",
      "Name: candidate, dtype: int64\n"
     ]
    }
   ],
   "source": [
    "piechart_data = df['candidate'].value_counts()\n",
    "\n",
    "print(piechart_data)"
   ]
  },
  {
   "cell_type": "code",
   "execution_count": 56,
   "id": "e17c12e7-7823-4354-b526-44e2753adc53",
   "metadata": {},
   "outputs": [
    {
     "data": {
      "text/plain": [
       "{'No candidate mentioned': 7491,\n",
       " 'Donald Trump': 2813,\n",
       " 'Jeb Bush': 705,\n",
       " 'Ted Cruz': 637,\n",
       " 'Ben Carson': 404,\n",
       " 'Mike Huckabee': 393,\n",
       " 'Chris Christie': 293,\n",
       " 'Marco Rubio': 275,\n",
       " 'Rand Paul': 263,\n",
       " 'Scott Walker': 259,\n",
       " 'John Kasich': 242}"
      ]
     },
     "execution_count": 56,
     "metadata": {},
     "output_type": "execute_result"
    }
   ],
   "source": [
    "piechart_dict = piechart_data.to_dict()\n",
    "piechart_dict"
   ]
  },
  {
   "cell_type": "code",
   "execution_count": 57,
   "id": "3a7c595e-1541-493a-a87a-1f3c144e3bf0",
   "metadata": {},
   "outputs": [
    {
     "data": {
      "text/html": [
       "<div>\n",
       "<style scoped>\n",
       "    .dataframe tbody tr th:only-of-type {\n",
       "        vertical-align: middle;\n",
       "    }\n",
       "\n",
       "    .dataframe tbody tr th {\n",
       "        vertical-align: top;\n",
       "    }\n",
       "\n",
       "    .dataframe thead th {\n",
       "        text-align: right;\n",
       "    }\n",
       "</style>\n",
       "<table border=\"1\" class=\"dataframe\">\n",
       "  <thead>\n",
       "    <tr style=\"text-align: right;\">\n",
       "      <th></th>\n",
       "      <th>candidates</th>\n",
       "      <th>mentioned</th>\n",
       "    </tr>\n",
       "  </thead>\n",
       "  <tbody>\n",
       "    <tr>\n",
       "      <th>0</th>\n",
       "      <td>No candidate mentioned</td>\n",
       "      <td>7491</td>\n",
       "    </tr>\n",
       "    <tr>\n",
       "      <th>1</th>\n",
       "      <td>Donald Trump</td>\n",
       "      <td>2813</td>\n",
       "    </tr>\n",
       "    <tr>\n",
       "      <th>2</th>\n",
       "      <td>Jeb Bush</td>\n",
       "      <td>705</td>\n",
       "    </tr>\n",
       "    <tr>\n",
       "      <th>3</th>\n",
       "      <td>Ted Cruz</td>\n",
       "      <td>637</td>\n",
       "    </tr>\n",
       "    <tr>\n",
       "      <th>4</th>\n",
       "      <td>Ben Carson</td>\n",
       "      <td>404</td>\n",
       "    </tr>\n",
       "    <tr>\n",
       "      <th>5</th>\n",
       "      <td>Mike Huckabee</td>\n",
       "      <td>393</td>\n",
       "    </tr>\n",
       "    <tr>\n",
       "      <th>6</th>\n",
       "      <td>Chris Christie</td>\n",
       "      <td>293</td>\n",
       "    </tr>\n",
       "    <tr>\n",
       "      <th>7</th>\n",
       "      <td>Marco Rubio</td>\n",
       "      <td>275</td>\n",
       "    </tr>\n",
       "    <tr>\n",
       "      <th>8</th>\n",
       "      <td>Rand Paul</td>\n",
       "      <td>263</td>\n",
       "    </tr>\n",
       "    <tr>\n",
       "      <th>9</th>\n",
       "      <td>Scott Walker</td>\n",
       "      <td>259</td>\n",
       "    </tr>\n",
       "    <tr>\n",
       "      <th>10</th>\n",
       "      <td>John Kasich</td>\n",
       "      <td>242</td>\n",
       "    </tr>\n",
       "  </tbody>\n",
       "</table>\n",
       "</div>"
      ],
      "text/plain": [
       "                candidates  mentioned\n",
       "0   No candidate mentioned       7491\n",
       "1             Donald Trump       2813\n",
       "2                 Jeb Bush        705\n",
       "3                 Ted Cruz        637\n",
       "4               Ben Carson        404\n",
       "5            Mike Huckabee        393\n",
       "6           Chris Christie        293\n",
       "7              Marco Rubio        275\n",
       "8                Rand Paul        263\n",
       "9             Scott Walker        259\n",
       "10             John Kasich        242"
      ]
     },
     "execution_count": 57,
     "metadata": {},
     "output_type": "execute_result"
    }
   ],
   "source": [
    "piechart_df = pd.DataFrame.from_dict(piechart_dict, orient=\"index\").reset_index()\n",
    "piechart_df.columns = ['candidates', 'mentioned']\n",
    "piechart_df"
   ]
  },
  {
   "cell_type": "code",
   "execution_count": 58,
   "id": "3897394f-7213-40f1-9e0d-71f5c0cc93ab",
   "metadata": {},
   "outputs": [
    {
     "data": {
      "text/plain": [
       "<AxesSubplot:ylabel='mentioned'>"
      ]
     },
     "execution_count": 58,
     "metadata": {},
     "output_type": "execute_result"
    },
    {
     "data": {
      "image/png": "[encoded data removed]",
      "text/plain": [
       "<Figure size 432x288 with 1 Axes>"
      ]
     },
     "metadata": {},
     "output_type": "display_data"
    }
   ],
   "source": [
    "piechart_df.plot(x=\"candidates\", y=\"mentioned\", kind=\"pie\")"
   ]
  },
  {
   "cell_type": "code",
   "execution_count": null,
   "id": "a323f315-4195-4858-8eda-184985a25099",
   "metadata": {},
   "outputs": [],
   "source": []
  }
 ],
 "metadata": {
  "kernelspec": {
   "display_name": "Python 3",
   "language": "python",
   "name": "python3"
  },
  "language_info": {
   "codemirror_mode": {
    "name": "ipython",
    "version": 3
   },
   "file_extension": ".py",
   "mimetype": "text/x-python",
   "name": "python",
   "nbconvert_exporter": "python",
   "pygments_lexer": "ipython3",
   "version": "3.8.8"
  }
 },
 "nbformat": 4,
 "nbformat_minor": 5
}
